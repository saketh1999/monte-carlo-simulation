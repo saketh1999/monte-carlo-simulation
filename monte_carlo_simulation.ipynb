{
  "nbformat": 4,
  "nbformat_minor": 0,
  "metadata": {
    "colab": {
      "provenance": [],
      "authorship_tag": "ABX9TyMw+IkB4uyTOmCXBDLuZ13N",
      "include_colab_link": true
    },
    "kernelspec": {
      "name": "python3",
      "display_name": "Python 3"
    },
    "language_info": {
      "name": "python"
    }
  },
  "cells": [
    {
      "cell_type": "markdown",
      "metadata": {
        "id": "view-in-github",
        "colab_type": "text"
      },
      "source": [
        "<a href=\"https://colab.research.google.com/github/saketh1999/monte-carlo-simulation/blob/main/monte_carlo_simulation.ipynb\" target=\"_parent\"><img src=\"https://colab.research.google.com/assets/colab-badge.svg\" alt=\"Open In Colab\"/></a>"
      ]
    },
    {
      "cell_type": "code",
      "execution_count": 1,
      "metadata": {
        "id": "OfVSEuE75oAw"
      },
      "outputs": [],
      "source": [
        "import numpy as np\n",
        "\n",
        "\n",
        "sims = 1000000 //1 million simulations\n",
        "\n",
        "A= np.random.uniform(1,5,sims)\n",
        "B= np.random.uniform(1,5,sims)\n",
        "\n",
        "duration = A+B\n"
      ]
    },
    {
      "cell_type": "code",
      "source": [
        "import matplotlib.pyplot as plt\n",
        "# To plot a histogram\n",
        "plt.figure(figsize=(3,1.5))\n",
        "plt.hist(duration,density=True)\n",
        "plt.axvline(duration.mean(), color='r', linestyle='dashed', linewidth=1)\n",
        "plt.axvline(9, color='g', linestyle='dashed', linewidth=1)\n",
        "plt.show()\n",
        "print((duration>9).sum()/sims)\n",
        "print(\"Red line represents the Mean\")\n",
        "print(\"Green line represents 9 hours\")"
      ],
      "metadata": {
        "colab": {
          "base_uri": "https://localhost:8080/",
          "height": 228
        },
        "id": "xwEEBY8Y6-sQ",
        "outputId": "a7e34de0-6e06-4a69-ce15-bdb441d865b8"
      },
      "execution_count": 7,
      "outputs": [
        {
          "output_type": "display_data",
          "data": {
            "text/plain": [
              "<Figure size 300x150 with 1 Axes>"
            ],
            "image/png": "[encoded data removed]"
          },
          "metadata": {}
        },
        {
          "output_type": "stream",
          "name": "stdout",
          "text": [
            "0.031617\n",
            "Red line represents the Mean\n",
            "Green line represents 9 hours\n"
          ]
        }
      ]
    }
  ]
}