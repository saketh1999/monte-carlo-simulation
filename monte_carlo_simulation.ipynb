{
  "nbformat": 4,
  "nbformat_minor": 0,
  "metadata": {
    "colab": {
      "provenance": [],
      "authorship_tag": "ABX9TyNGtnNmlHqW+vcrtiyDrrVp",
      "include_colab_link": true
    },
    "kernelspec": {
      "name": "python3",
      "display_name": "Python 3"
    },
    "language_info": {
      "name": "python"
    }
  },
  "cells": [
    {
      "cell_type": "markdown",
      "metadata": {
        "id": "view-in-github",
        "colab_type": "text"
      },
      "source": [
        "<a href=\"https://colab.research.google.com/github/saketh1999/monte-carlo-simulation/blob/main/monte_carlo_simulation.ipynb\" target=\"_parent\"><img src=\"https://colab.research.google.com/assets/colab-badge.svg\" alt=\"Open In Colab\"/></a>"
      ]
    },
    {
      "cell_type": "markdown",
      "source": [
        "For this example :\n",
        "Imagine you’re a hard-working employee in your company.It’s Friday morning. Your boss comes up to you and asks you to complete two reports:\n",
        "\n",
        "Report A takes 2 - 6 hours\n",
        "\n",
        "Report B takes 1 - 5 hours\n",
        "\n",
        "You are scheduled to attend a BBQ dinner at 6 pm that day. (You have nine hours before the BBQ)\n",
        "\n",
        "What will you do? Will you get the reports done or turn your boss down?\n",
        "Let’s find out the\n",
        "\n",
        "(Click here to learn about [Monte Carlo](https://https://www.youtube.com/watch?v=7TqhmX92P6U&pp=ygUWbW9udGUgY2FybG8gc2ltdWxhdGlvbg%3D%3D))"
      ],
      "metadata": {
        "id": "ka6wm85UJQTY"
      }
    },
    {
      "cell_type": "code",
      "execution_count": null,
      "metadata": {
        "id": "OfVSEuE75oAw"
      },
      "outputs": [],
      "source": [
        "import numpy as np\n",
        "\n",
        "\n",
        "sims = 1000000 //1 million simulations\n",
        "\n",
        "A= np.random.uniform(1,5,sims)\n",
        "B= np.random.uniform(1,5,sims)\n",
        "\n",
        "duration = A+B\n"
      ]
    },
    {
      "cell_type": "code",
      "source": [
        "import matplotlib.pyplot as plt\n",
        "# To plot a histogram\n",
        "plt.figure(figsize=(3,1.5))\n",
        "plt.hist(duration,density=True)\n",
        "\n",
        "plt.axvline(9, color='r', linestyle='dashed', linewidth=1)\n",
        "plt.show()\n",
        "\n",
        "print(\"Red line represents 9 hours limit = \",end=\"\")\n",
        "print((duration>9).sum()/sims)"
      ],
      "metadata": {
        "colab": {
          "base_uri": "https://localhost:8080/",
          "height": 193
        },
        "id": "xwEEBY8Y6-sQ",
        "outputId": "0645112c-fa8d-46bb-94e8-ab23d29f34cc"
      },
      "execution_count": 15,
      "outputs": [
        {
          "output_type": "display_data",
          "data": {
            "text/plain": [
              "<Figure size 300x150 with 1 Axes>"
            ],
            "image/png": "[encoded data removed]"
          },
          "metadata": {}
        },
        {
          "output_type": "stream",
          "name": "stdout",
          "text": [
            "Red line represents 9 hours limit = 0.124811\n"
          ]
        }
      ]
    },
    {
      "cell_type": "markdown",
      "source": [
        "You have 0.124 chance to make it.\n",
        "\n",
        "**Therefore you will turn your boss down and lose your job (HAHA!! JK)**"
      ],
      "metadata": {
        "id": "3GUr06vLXyIP"
      }
    }
  ]
}